{
 "cells": [
  {
   "cell_type": "markdown",
   "id": "1d07bf9e",
   "metadata": {},
   "source": [
    "# Importing necessary libraries"
   ]
  },
  {
   "cell_type": "code",
   "execution_count": 1,
   "id": "40b4772c",
   "metadata": {},
   "outputs": [],
   "source": [
    "from bs4 import BeautifulSoup as bs # Beautiful soup is for parsing the page content\n",
    "import requests                     # request is for sending the http request to web server\n",
    "import pandas as pd                 # Pandas is for creating DataFrame"
   ]
  },
  {
   "cell_type": "markdown",
   "id": "ac295d81",
   "metadata": {},
   "source": [
    "# Functions for getting the Data that we scraping from the webpage "
   ]
  },
  {
   "cell_type": "code",
   "execution_count": 7,
   "id": "2a30f903",
   "metadata": {},
   "outputs": [],
   "source": [
    "def get_tagTitle(soup):\n",
    "    names=soup.find_all('div',class_=\"_cDEzb_p13n-sc-css-line-clamp-1_1Fn1y\")\n",
    "    tag_title=[]\n",
    "    for i in range(0,len(names)):\n",
    "        tag_title.append(names[i].get_text())\n",
    "    return tag_title \n",
    "\n",
    "tag=get_tagTitle(soup)"
   ]
  },
  {
   "cell_type": "code",
   "execution_count": 27,
   "id": "a8796f9e",
   "metadata": {},
   "outputs": [],
   "source": [
    "# function for getting the Tilte\n",
    "def get_title(tag):\n",
    "    title=[]\n",
    "    for text in range(len(tag)):\n",
    "        if text % 2==0:\n",
    "            title.append(tag[text])\n",
    "\n",
    "        \n",
    "    return title    \n",
    "    \n",
    "\n"
   ]
  },
  {
   "cell_type": "code",
   "execution_count": 16,
   "id": "dc90683f",
   "metadata": {},
   "outputs": [],
   "source": [
    "# function for getting the Author name\n",
    "def get_author(tag):\n",
    "    author=[]\n",
    "    for text in range(len(tag)):\n",
    "        if text % 2!=0:\n",
    "            author.append(tag[text])\n",
    "\n",
    "        \n",
    "    return author "
   ]
  },
  {
   "cell_type": "code",
   "execution_count": 10,
   "id": "6412b55d",
   "metadata": {},
   "outputs": [],
   "source": [
    "# function for getting the Price of the book\n",
    "def get_price(soup):\n",
    "    price_lst=soup.find_all('span',class_=\"_cDEzb_p13n-sc-price_3mJ9Z\")\n",
    "    price=[]\n",
    "    for i in range(0,len(price_lst)):\n",
    "        price.append(price_lst[i].get_text())\n",
    "    return price    \n",
    "    "
   ]
  },
  {
   "cell_type": "markdown",
   "id": "2c037805",
   "metadata": {},
   "source": [
    "# Function for sending request and getting html content from multiple pages"
   ]
  },
  {
   "cell_type": "code",
   "execution_count": 28,
   "id": "80157251",
   "metadata": {},
   "outputs": [],
   "source": [
    "def get_mul_pages(pg_no):\n",
    "    \n",
    "    HEADERS = ({'User-Agent':'Mozilla/5.0 (Windows NT 10.0; Win64; x64) AppleWebKit/537.36 (KHTML, like Gecko) Chrome/111.0.0.0 Safari/537.36', 'Accept-Language': 'en-US, en;q=0.5'})\n",
    "\n",
    "    URL = \"https://www.amazon.in/gp/bestsellers/books\" + str(pg_no) # url we are scraping\n",
    "    webpage = requests.get(URL , headers=HEADERS)                   # sending request\n",
    "    title=get_title(tag)\n",
    "    author=get_author(tag)\n",
    "    price=get_price(soup)\n",
    "    return title,author,price\n",
    "\n",
    "\n",
    "\n",
    "all_title,all_author,all_price=[],[],[]\n",
    "for pg_no in range(1,6):                                           # Getting data from pages 1 to 5\n",
    "    title,author,price = get_mul_pages(pg_no)\n",
    "    soup = bs(webpage.content, \"html.parser\")                      #parsing the data \n",
    "    all_title+=title\n",
    "    all_author+=author                                             # storing the data in list\n",
    "    all_price+=price\n",
    "    \n"
   ]
  },
  {
   "cell_type": "code",
   "execution_count": 24,
   "id": "7176169e",
   "metadata": {},
   "outputs": [],
   "source": [
    "# Creating a dictionary \n",
    "Amazon_books={\"Title\": all_title,\n",
    "              \"Author\":all_author,\n",
    "              \"Price\": all_price}"
   ]
  },
  {
   "cell_type": "markdown",
   "id": "4f2e979f",
   "metadata": {},
   "source": [
    "# creating the pandas dataframe using the created dictionary"
   ]
  },
  {
   "cell_type": "code",
   "execution_count": 25,
   "id": "2c99c544",
   "metadata": {},
   "outputs": [
    {
     "data": {
      "text/html": [
       "<div>\n",
       "<style scoped>\n",
       "    .dataframe tbody tr th:only-of-type {\n",
       "        vertical-align: middle;\n",
       "    }\n",
       "\n",
       "    .dataframe tbody tr th {\n",
       "        vertical-align: top;\n",
       "    }\n",
       "\n",
       "    .dataframe thead th {\n",
       "        text-align: right;\n",
       "    }\n",
       "</style>\n",
       "<table border=\"1\" class=\"dataframe\">\n",
       "  <thead>\n",
       "    <tr style=\"text-align: right;\">\n",
       "      <th></th>\n",
       "      <th>Title</th>\n",
       "      <th>Author</th>\n",
       "      <th>Price</th>\n",
       "    </tr>\n",
       "  </thead>\n",
       "  <tbody>\n",
       "    <tr>\n",
       "      <th>0</th>\n",
       "      <td>The Psychology of Money</td>\n",
       "      <td>Morgan Housel</td>\n",
       "      <td>₹228.00</td>\n",
       "    </tr>\n",
       "    <tr>\n",
       "      <th>1</th>\n",
       "      <td>Atomic Habits: The life-changing million copy ...</td>\n",
       "      <td>James Clear</td>\n",
       "      <td>₹425.00</td>\n",
       "    </tr>\n",
       "    <tr>\n",
       "      <th>2</th>\n",
       "      <td>BlackBook of English Vocabulary March 2023 by ...</td>\n",
       "      <td>Nikhil Kr Gupta</td>\n",
       "      <td>₹279.00</td>\n",
       "    </tr>\n",
       "    <tr>\n",
       "      <th>3</th>\n",
       "      <td>CUET 2023 Commerce Domain Based on Class 12 NC...</td>\n",
       "      <td>Think Tank of Kiran Institute of Career Excell...</td>\n",
       "      <td>₹495.00</td>\n",
       "    </tr>\n",
       "    <tr>\n",
       "      <th>4</th>\n",
       "      <td>Ikigai: The Japanese secret to a long and happ...</td>\n",
       "      <td>Héctor García</td>\n",
       "      <td>₹320.00</td>\n",
       "    </tr>\n",
       "    <tr>\n",
       "      <th>...</th>\n",
       "      <td>...</td>\n",
       "      <td>...</td>\n",
       "      <td>...</td>\n",
       "    </tr>\n",
       "    <tr>\n",
       "      <th>145</th>\n",
       "      <td>28 Years UPSC Civil Services IAS Prelims Topic...</td>\n",
       "      <td>Mrunal Patel</td>\n",
       "      <td>₹394.00</td>\n",
       "    </tr>\n",
       "    <tr>\n",
       "      <th>146</th>\n",
       "      <td>Concept of Physics by H.C Verma Part - II - Se...</td>\n",
       "      <td>H.C. Verma</td>\n",
       "      <td>₹380.00</td>\n",
       "    </tr>\n",
       "    <tr>\n",
       "      <th>147</th>\n",
       "      <td>Do It Today: Overcome procrastination, improve...</td>\n",
       "      <td>Darius Foroux</td>\n",
       "      <td>₹150.00</td>\n",
       "    </tr>\n",
       "    <tr>\n",
       "      <th>148</th>\n",
       "      <td>LIFES AMAZING SECRETS</td>\n",
       "      <td>Gaur Gopal Das</td>\n",
       "      <td>₹163.00</td>\n",
       "    </tr>\n",
       "    <tr>\n",
       "      <th>149</th>\n",
       "      <td>How to Win Friends and Influence People</td>\n",
       "      <td>Dale Carnegie</td>\n",
       "      <td>₹97.00</td>\n",
       "    </tr>\n",
       "  </tbody>\n",
       "</table>\n",
       "<p>150 rows × 3 columns</p>\n",
       "</div>"
      ],
      "text/plain": [
       "                                                 Title  \\\n",
       "0                              The Psychology of Money   \n",
       "1    Atomic Habits: The life-changing million copy ...   \n",
       "2    BlackBook of English Vocabulary March 2023 by ...   \n",
       "3    CUET 2023 Commerce Domain Based on Class 12 NC...   \n",
       "4    Ikigai: The Japanese secret to a long and happ...   \n",
       "..                                                 ...   \n",
       "145  28 Years UPSC Civil Services IAS Prelims Topic...   \n",
       "146  Concept of Physics by H.C Verma Part - II - Se...   \n",
       "147  Do It Today: Overcome procrastination, improve...   \n",
       "148                              LIFES AMAZING SECRETS   \n",
       "149            How to Win Friends and Influence People   \n",
       "\n",
       "                                                Author    Price  \n",
       "0                                        Morgan Housel  ₹228.00  \n",
       "1                                          James Clear  ₹425.00  \n",
       "2                                      Nikhil Kr Gupta  ₹279.00  \n",
       "3    Think Tank of Kiran Institute of Career Excell...  ₹495.00  \n",
       "4                                        Héctor García  ₹320.00  \n",
       "..                                                 ...      ...  \n",
       "145                                       Mrunal Patel  ₹394.00  \n",
       "146                                         H.C. Verma  ₹380.00  \n",
       "147                                      Darius Foroux  ₹150.00  \n",
       "148                                     Gaur Gopal Das  ₹163.00  \n",
       "149                                      Dale Carnegie   ₹97.00  \n",
       "\n",
       "[150 rows x 3 columns]"
      ]
     },
     "execution_count": 25,
     "metadata": {},
     "output_type": "execute_result"
    }
   ],
   "source": [
    "df=pd.DataFrame(Amazon_books)\n",
    "df"
   ]
  },
  {
   "cell_type": "markdown",
   "id": "37723a3a",
   "metadata": {},
   "source": [
    "# Storing the created dataframe into CSV form"
   ]
  },
  {
   "cell_type": "code",
   "execution_count": 26,
   "id": "b7eb8a29",
   "metadata": {},
   "outputs": [],
   "source": [
    "df.to_csv(r'F:\\JupyterProject\\Amazon_books.csv')"
   ]
  },
  {
   "cell_type": "code",
   "execution_count": null,
   "id": "3b2a9da3",
   "metadata": {},
   "outputs": [],
   "source": []
  }
 ],
 "metadata": {
  "kernelspec": {
   "display_name": "Python 3 (ipykernel)",
   "language": "python",
   "name": "python3"
  },
  "language_info": {
   "codemirror_mode": {
    "name": "ipython",
    "version": 3
   },
   "file_extension": ".py",
   "mimetype": "text/x-python",
   "name": "python",
   "nbconvert_exporter": "python",
   "pygments_lexer": "ipython3",
   "version": "3.9.13"
  }
 },
 "nbformat": 4,
 "nbformat_minor": 5
}
